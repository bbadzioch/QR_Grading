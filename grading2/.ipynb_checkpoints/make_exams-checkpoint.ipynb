{
 "cells": [
  {
   "cell_type": "code",
   "execution_count": 70,
   "metadata": {},
   "outputs": [],
   "source": [
    "import newgrading2\n",
    "import importlib\n",
    "importlib.reload(newgrading2)\n",
    "x = newgrading2.PrepareGrading(maxpoints = [20,10,10,20,20,10,10], \n",
    "                   score_table_template = \"grade_table_template.tex\", \n",
    "                   main_dir = None, \n",
    "                   gradebook = \"gradebook.csv\", \n",
    "                   init_grading_data=False)"
   ]
  },
  {
   "cell_type": "code",
   "execution_count": 71,
   "metadata": {
    "scrolled": false
   },
   "outputs": [
    {
     "name": "stdout",
     "output_type": "stream",
     "text": [
      "\n",
      "Reading scanned files... \n",
      "\n",
      "\n",
      "\n",
      "Adding score tables... \n",
      "\n",
      "Score tables added.                                        \n",
      "\n",
      "\n",
      "Assembling files for grading... \n",
      "\n",
      "\n",
      "\n",
      "Finishing...\n",
      "\n",
      "Grading files ready.\n"
     ]
    }
   ],
   "source": [
    "x.prepare_grading()"
   ]
  },
  {
   "cell_type": "code",
   "execution_count": null,
   "metadata": {},
   "outputs": [],
   "source": []
  }
 ],
 "metadata": {
  "kernelspec": {
   "display_name": "Python 3",
   "language": "python",
   "name": "python3"
  },
  "language_info": {
   "codemirror_mode": {
    "name": "ipython",
    "version": 3
   },
   "file_extension": ".py",
   "mimetype": "text/x-python",
   "name": "python",
   "nbconvert_exporter": "python",
   "pygments_lexer": "ipython3",
   "version": "3.7.4"
  }
 },
 "nbformat": 4,
 "nbformat_minor": 2
}
